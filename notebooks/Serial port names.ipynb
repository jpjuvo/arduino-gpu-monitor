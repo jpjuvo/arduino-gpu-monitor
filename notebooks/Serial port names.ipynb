{
 "cells": [
  {
   "cell_type": "code",
   "execution_count": 15,
   "id": "exterior-visit",
   "metadata": {},
   "outputs": [],
   "source": [
    "import serial.tools.list_ports\n",
    "import glob\n",
    "import sys"
   ]
  },
  {
   "cell_type": "code",
   "execution_count": 6,
   "id": "needed-request",
   "metadata": {},
   "outputs": [
    {
     "name": "stdout",
     "output_type": "stream",
     "text": [
      "[]\n"
     ]
    }
   ],
   "source": [
    "myports = [tuple(p) for p in list(serial.tools.list_ports.comports())]\n",
    "print(myports)"
   ]
  },
  {
   "cell_type": "code",
   "execution_count": 9,
   "id": "german-fundamental",
   "metadata": {},
   "outputs": [
    {
     "data": {
      "text/plain": [
       "[]"
      ]
     },
     "execution_count": 9,
     "metadata": {},
     "output_type": "execute_result"
    }
   ],
   "source": [
    "serial.tools.list_ports.comports(include_links=True)"
   ]
  },
  {
   "cell_type": "code",
   "execution_count": 29,
   "id": "wireless-broadcasting",
   "metadata": {},
   "outputs": [],
   "source": [
    "for info in serial.tools.list_ports.grep(' '):\n",
    "    print(info.description)"
   ]
  },
  {
   "cell_type": "code",
   "execution_count": 36,
   "id": "israeli-verse",
   "metadata": {},
   "outputs": [
    {
     "name": "stdout",
     "output_type": "stream",
     "text": [
      "[    0.639458] Serial: 8250/16550 driver, 32 ports, IRQ sharing enabled\r\n",
      "[    0.711105] usb usb1: New USB device strings: Mfr=3, Product=2, SerialNumber=1\r\n",
      "[    0.711108] usb usb1: SerialNumber: 0000:00:14.0\r\n",
      "[    0.712320] usb usb2: New USB device strings: Mfr=3, Product=2, SerialNumber=1\r\n",
      "[    0.712322] usb usb2: SerialNumber: 0000:00:14.0\r\n",
      "[    0.713916] usb usb3: New USB device strings: Mfr=3, Product=2, SerialNumber=1\r\n",
      "[    0.713918] usb usb3: SerialNumber: 0000:01:00.2\r\n",
      "[    0.714422] usb usb4: New USB device strings: Mfr=3, Product=2, SerialNumber=1\r\n",
      "[    0.714425] usb usb4: SerialNumber: 0000:01:00.2\r\n",
      "[    1.493029] usb 2-1: New USB device strings: Mfr=2, Product=3, SerialNumber=1\r\n",
      "[    1.493031] usb 2-1: SerialNumber: 1234567E4E0E\r\n",
      "[    1.696961] usb 1-3: New USB device strings: Mfr=3, Product=1, SerialNumber=0\r\n",
      "[    2.031838] usb 1-6: New USB device strings: Mfr=1, Product=2, SerialNumber=0\r\n",
      "[    2.330559] usb 1-9: New USB device strings: Mfr=1, Product=2, SerialNumber=0\r\n",
      "[    2.614629] usb 1-14: New USB device strings: Mfr=0, Product=0, SerialNumber=0\r\n",
      "[25039.850947] usb 1-2: New USB device strings: Mfr=1, Product=2, SerialNumber=220\r\n",
      "[25039.850954] usb 1-2: SerialNumber: 75439333535351313120\r\n",
      "[25447.596377] usb 1-2: New USB device strings: Mfr=1, Product=2, SerialNumber=220\r\n",
      "[25447.596383] usb 1-2: SerialNumber: 75439333535351313120\r\n",
      "[47968.512964] usb 1-2: New USB device strings: Mfr=1, Product=2, SerialNumber=220\r\n",
      "[47968.512972] usb 1-2: SerialNumber: 75439333535351313120\r\n"
     ]
    }
   ],
   "source": [
    "!dmesg | grep -i serial"
   ]
  },
  {
   "cell_type": "code",
   "execution_count": 42,
   "id": "coordinated-symphony",
   "metadata": {},
   "outputs": [
    {
     "data": {
      "text/plain": [
       "['/dev/ttyACM0']"
      ]
     },
     "execution_count": 42,
     "metadata": {},
     "output_type": "execute_result"
    }
   ],
   "source": [
    "if sys.platform.startswith ('linux'):\n",
    "    port_list = glob.glob ('/dev/ttyACM[0-9]*')\n",
    "port_list"
   ]
  },
  {
   "cell_type": "code",
   "execution_count": 2,
   "id": "bottom-decrease",
   "metadata": {},
   "outputs": [
    {
     "name": "stdout",
     "output_type": "stream",
     "text": [
      "Collecting easydict\n",
      "  Downloading easydict-1.9.tar.gz (6.4 kB)\n",
      "Using legacy 'setup.py install' for easydict, since package 'wheel' is not installed.\n",
      "Installing collected packages: easydict\n",
      "    Running setup.py install for easydict ... \u001b[?25ldone\n",
      "\u001b[?25hSuccessfully installed easydict-1.9\n"
     ]
    }
   ],
   "source": [
    "!pip install easydict"
   ]
  },
  {
   "cell_type": "code",
   "execution_count": null,
   "id": "driven-edmonton",
   "metadata": {},
   "outputs": [],
   "source": []
  }
 ],
 "metadata": {
  "kernelspec": {
   "display_name": "Python 3",
   "language": "python",
   "name": "python3"
  },
  "language_info": {
   "codemirror_mode": {
    "name": "ipython",
    "version": 3
   },
   "file_extension": ".py",
   "mimetype": "text/x-python",
   "name": "python",
   "nbconvert_exporter": "python",
   "pygments_lexer": "ipython3",
   "version": "3.7.4"
  }
 },
 "nbformat": 4,
 "nbformat_minor": 5
}
